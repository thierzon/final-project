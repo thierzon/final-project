{
 "metadata": {
  "language_info": {
   "codemirror_mode": {
    "name": "ipython",
    "version": 3
   },
   "file_extension": ".py",
   "mimetype": "text/x-python",
   "name": "python",
   "nbconvert_exporter": "python",
   "pygments_lexer": "ipython3",
   "version": "3.6.10"
  },
  "orig_nbformat": 2,
  "kernelspec": {
   "name": "python3610jvsc74a57bd0cebc611b574370b56281b1eed2ebeeb5a0b0baf3a91027419d49730529808172",
   "display_name": "Python 3.6.10 64-bit ('PythonData': conda)"
  }
 },
 "nbformat": 4,
 "nbformat_minor": 2,
 "cells": [
  {
   "cell_type": "code",
   "execution_count": 1,
   "metadata": {},
   "outputs": [],
   "source": [
    "# import dependencies\n",
    "import pandas as pd\n",
    "import os\n",
    "from sqlalchemy import create_engine"
   ]
  },
  {
   "cell_type": "code",
   "execution_count": 2,
   "metadata": {},
   "outputs": [],
   "source": [
    "# define filename\n",
    "house_prices_file = \"all_perth_310121.csv\"\n",
    "\n",
    "# assign filepath\n",
    "house_prices_path = os.path.join(\"resources\", house_prices_file)"
   ]
  },
  {
   "cell_type": "code",
   "execution_count": 3,
   "metadata": {},
   "outputs": [
    {
     "output_type": "execute_result",
     "data": {
      "text/plain": [
       "           ADDRESS      SUBURB   PRICE  BEDROOMS  BATHROOMS  GARAGE  \\\n",
       "0    1 Acorn Place  South Lake  565000         4          2     2.0   \n",
       "1      1 Addis Way       Wandi  365000         3          2     2.0   \n",
       "2  1 Ainsley Court     Camillo  287000         3          1     1.0   \n",
       "3  1 Albert Street    Bellevue  255000         2          1     2.0   \n",
       "4     1 Aman Place   Lockridge  325000         4          1     2.0   \n",
       "\n",
       "   LAND_AREA  FLOOR_AREA  BUILD_YEAR  CBD_DIST               NEAREST_STN  \\\n",
       "0        600         160      2003.0     18300  Cockburn Central Station   \n",
       "1        351         139      2013.0     26900           Kwinana Station   \n",
       "2        719          86      1979.0     22600           Challis Station   \n",
       "3        651          59      1953.0     17900           Midland Station   \n",
       "4        466         131      1998.0     11200        Bassendean Station   \n",
       "\n",
       "   NEAREST_STN_DIST  DATE_SOLD  POSTCODE   LATITUDE   LONGITUDE  \\\n",
       "0              1800  09-2018\\r      6164 -32.115900  115.842450   \n",
       "1              4900  02-2019\\r      6167 -32.193470  115.859553   \n",
       "2              1900  06-2015\\r      6111 -32.120578  115.993579   \n",
       "3              3600  07-2018\\r      6056 -31.900547  116.038009   \n",
       "4              2000  11-2016\\r      6054 -31.885790  115.947780   \n",
       "\n",
       "                    NEAREST_SCH  NEAREST_SCH_DIST  NEAREST_SCH_RANK  \n",
       "0   LAKELAND SENIOR HIGH SCHOOL          0.828339               NaN  \n",
       "1                ATWELL COLLEGE          5.524324             129.0  \n",
       "2  KELMSCOTT SENIOR HIGH SCHOOL          1.649178             113.0  \n",
       "3  SWAN VIEW SENIOR HIGH SCHOOL          1.571401               NaN  \n",
       "4                 KIARA COLLEGE          1.514922               NaN  "
      ],
      "text/html": "<div>\n<style scoped>\n    .dataframe tbody tr th:only-of-type {\n        vertical-align: middle;\n    }\n\n    .dataframe tbody tr th {\n        vertical-align: top;\n    }\n\n    .dataframe thead th {\n        text-align: right;\n    }\n</style>\n<table border=\"1\" class=\"dataframe\">\n  <thead>\n    <tr style=\"text-align: right;\">\n      <th></th>\n      <th>ADDRESS</th>\n      <th>SUBURB</th>\n      <th>PRICE</th>\n      <th>BEDROOMS</th>\n      <th>BATHROOMS</th>\n      <th>GARAGE</th>\n      <th>LAND_AREA</th>\n      <th>FLOOR_AREA</th>\n      <th>BUILD_YEAR</th>\n      <th>CBD_DIST</th>\n      <th>NEAREST_STN</th>\n      <th>NEAREST_STN_DIST</th>\n      <th>DATE_SOLD</th>\n      <th>POSTCODE</th>\n      <th>LATITUDE</th>\n      <th>LONGITUDE</th>\n      <th>NEAREST_SCH</th>\n      <th>NEAREST_SCH_DIST</th>\n      <th>NEAREST_SCH_RANK</th>\n    </tr>\n  </thead>\n  <tbody>\n    <tr>\n      <th>0</th>\n      <td>1 Acorn Place</td>\n      <td>South Lake</td>\n      <td>565000</td>\n      <td>4</td>\n      <td>2</td>\n      <td>2.0</td>\n      <td>600</td>\n      <td>160</td>\n      <td>2003.0</td>\n      <td>18300</td>\n      <td>Cockburn Central Station</td>\n      <td>1800</td>\n      <td>09-2018\\r</td>\n      <td>6164</td>\n      <td>-32.115900</td>\n      <td>115.842450</td>\n      <td>LAKELAND SENIOR HIGH SCHOOL</td>\n      <td>0.828339</td>\n      <td>NaN</td>\n    </tr>\n    <tr>\n      <th>1</th>\n      <td>1 Addis Way</td>\n      <td>Wandi</td>\n      <td>365000</td>\n      <td>3</td>\n      <td>2</td>\n      <td>2.0</td>\n      <td>351</td>\n      <td>139</td>\n      <td>2013.0</td>\n      <td>26900</td>\n      <td>Kwinana Station</td>\n      <td>4900</td>\n      <td>02-2019\\r</td>\n      <td>6167</td>\n      <td>-32.193470</td>\n      <td>115.859553</td>\n      <td>ATWELL COLLEGE</td>\n      <td>5.524324</td>\n      <td>129.0</td>\n    </tr>\n    <tr>\n      <th>2</th>\n      <td>1 Ainsley Court</td>\n      <td>Camillo</td>\n      <td>287000</td>\n      <td>3</td>\n      <td>1</td>\n      <td>1.0</td>\n      <td>719</td>\n      <td>86</td>\n      <td>1979.0</td>\n      <td>22600</td>\n      <td>Challis Station</td>\n      <td>1900</td>\n      <td>06-2015\\r</td>\n      <td>6111</td>\n      <td>-32.120578</td>\n      <td>115.993579</td>\n      <td>KELMSCOTT SENIOR HIGH SCHOOL</td>\n      <td>1.649178</td>\n      <td>113.0</td>\n    </tr>\n    <tr>\n      <th>3</th>\n      <td>1 Albert Street</td>\n      <td>Bellevue</td>\n      <td>255000</td>\n      <td>2</td>\n      <td>1</td>\n      <td>2.0</td>\n      <td>651</td>\n      <td>59</td>\n      <td>1953.0</td>\n      <td>17900</td>\n      <td>Midland Station</td>\n      <td>3600</td>\n      <td>07-2018\\r</td>\n      <td>6056</td>\n      <td>-31.900547</td>\n      <td>116.038009</td>\n      <td>SWAN VIEW SENIOR HIGH SCHOOL</td>\n      <td>1.571401</td>\n      <td>NaN</td>\n    </tr>\n    <tr>\n      <th>4</th>\n      <td>1 Aman Place</td>\n      <td>Lockridge</td>\n      <td>325000</td>\n      <td>4</td>\n      <td>1</td>\n      <td>2.0</td>\n      <td>466</td>\n      <td>131</td>\n      <td>1998.0</td>\n      <td>11200</td>\n      <td>Bassendean Station</td>\n      <td>2000</td>\n      <td>11-2016\\r</td>\n      <td>6054</td>\n      <td>-31.885790</td>\n      <td>115.947780</td>\n      <td>KIARA COLLEGE</td>\n      <td>1.514922</td>\n      <td>NaN</td>\n    </tr>\n  </tbody>\n</table>\n</div>"
     },
     "metadata": {},
     "execution_count": 3
    }
   ],
   "source": [
    "# load in data\n",
    "house_prices_df = pd.read_csv(house_prices_path)\n",
    "\n",
    "# inspect data\n",
    "house_prices_df.head()"
   ]
  },
  {
   "cell_type": "code",
   "execution_count": 4,
   "metadata": {},
   "outputs": [
    {
     "output_type": "execute_result",
     "data": {
      "text/plain": [
       "ADDRESS              object\n",
       "SUBURB               object\n",
       "PRICE                 int64\n",
       "BEDROOMS              int64\n",
       "BATHROOMS             int64\n",
       "GARAGE              float64\n",
       "LAND_AREA             int64\n",
       "FLOOR_AREA            int64\n",
       "BUILD_YEAR          float64\n",
       "CBD_DIST              int64\n",
       "NEAREST_STN          object\n",
       "NEAREST_STN_DIST      int64\n",
       "DATE_SOLD            object\n",
       "POSTCODE              int64\n",
       "LATITUDE            float64\n",
       "LONGITUDE           float64\n",
       "NEAREST_SCH          object\n",
       "NEAREST_SCH_DIST    float64\n",
       "NEAREST_SCH_RANK    float64\n",
       "dtype: object"
      ]
     },
     "metadata": {},
     "execution_count": 4
    }
   ],
   "source": [
    "# inspect data types\n",
    "house_prices_df.dtypes"
   ]
  },
  {
   "cell_type": "code",
   "execution_count": 5,
   "metadata": {},
   "outputs": [
    {
     "output_type": "execute_result",
     "data": {
      "text/plain": [
       "0        1535760000\n",
       "1        1548979200\n",
       "2        1433116800\n",
       "3        1530403200\n",
       "4        1477958400\n",
       "            ...    \n",
       "33651    1456790400\n",
       "33652    1485907200\n",
       "33653    1485907200\n",
       "33654    1475280000\n",
       "33655    1462060800\n",
       "Name: DATE_SOLD_UNIX, Length: 33656, dtype: int64"
      ]
     },
     "metadata": {},
     "execution_count": 5
    }
   ],
   "source": [
    "# transform datatype to date\n",
    "house_prices_df[\"DATE_SOLD\"] = pd.to_datetime(house_prices_df[\"DATE_SOLD\"])\n",
    "\n",
    "# transform date to unix\n",
    "house_prices_df[\"DATE_SOLD_UNIX\"] = (house_prices_df[\"DATE_SOLD\"] - pd.Timestamp(\"1970-01-01\")) // pd.Timedelta('1s')\n",
    "\n",
    "# confirm dates are unix format\n",
    "house_prices_df[\"DATE_SOLD_UNIX\"]"
   ]
  },
  {
   "cell_type": "code",
   "execution_count": 9,
   "metadata": {},
   "outputs": [
    {
     "output_type": "execute_result",
     "data": {
      "text/plain": [
       "90"
      ]
     },
     "metadata": {},
     "execution_count": 9
    }
   ],
   "source": [
    "# find house duplicates\n",
    "house_prices_df.ADDRESS.duplicated().sum()"
   ]
  },
  {
   "cell_type": "code",
   "execution_count": 18,
   "metadata": {},
   "outputs": [
    {
     "output_type": "execute_result",
     "data": {
      "text/plain": [
       "   price_sold   date_sold  sale_id\n",
       "0      565000  1535760000   100000\n",
       "1      365000  1548979200   100001\n",
       "2      287000  1433116800   100002\n",
       "3      255000  1530403200   100003\n",
       "4      325000  1477958400   100004"
      ],
      "text/html": "<div>\n<style scoped>\n    .dataframe tbody tr th:only-of-type {\n        vertical-align: middle;\n    }\n\n    .dataframe tbody tr th {\n        vertical-align: top;\n    }\n\n    .dataframe thead th {\n        text-align: right;\n    }\n</style>\n<table border=\"1\" class=\"dataframe\">\n  <thead>\n    <tr style=\"text-align: right;\">\n      <th></th>\n      <th>price_sold</th>\n      <th>date_sold</th>\n      <th>sale_id</th>\n    </tr>\n  </thead>\n  <tbody>\n    <tr>\n      <th>0</th>\n      <td>565000</td>\n      <td>1535760000</td>\n      <td>100000</td>\n    </tr>\n    <tr>\n      <th>1</th>\n      <td>365000</td>\n      <td>1548979200</td>\n      <td>100001</td>\n    </tr>\n    <tr>\n      <th>2</th>\n      <td>287000</td>\n      <td>1433116800</td>\n      <td>100002</td>\n    </tr>\n    <tr>\n      <th>3</th>\n      <td>255000</td>\n      <td>1530403200</td>\n      <td>100003</td>\n    </tr>\n    <tr>\n      <th>4</th>\n      <td>325000</td>\n      <td>1477958400</td>\n      <td>100004</td>\n    </tr>\n  </tbody>\n</table>\n</div>"
     },
     "metadata": {},
     "execution_count": 18
    }
   ],
   "source": [
    "# prepare sale info dataframe\n",
    "sale_info_df = house_prices_df[['PRICE', 'DATE_SOLD_UNIX']]\n",
    "sale_info_df = sale_info_df.rename(columns={'PRICE':'price_sold','DATE_SOLD_UNIX':'date_sold'})\n",
    "sale_info_df['sale_id'] = sale_info_df.index + 100000\n",
    "\n",
    "\n",
    "sale_info_df.head()"
   ]
  },
  {
   "cell_type": "code",
   "execution_count": null,
   "metadata": {},
   "outputs": [],
   "source": []
  }
 ]
}