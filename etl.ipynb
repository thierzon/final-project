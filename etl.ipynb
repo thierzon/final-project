{
 "metadata": {
  "language_info": {
   "codemirror_mode": {
    "name": "ipython",
    "version": 3
   },
   "file_extension": ".py",
   "mimetype": "text/x-python",
   "name": "python",
   "nbconvert_exporter": "python",
   "pygments_lexer": "ipython3",
   "version": "3.6.10"
  },
  "orig_nbformat": 2,
  "kernelspec": {
   "name": "python3610jvsc74a57bd0cebc611b574370b56281b1eed2ebeeb5a0b0baf3a91027419d49730529808172",
   "display_name": "Python 3.6.10 64-bit ('PythonData': conda)"
  },
  "metadata": {
   "interpreter": {
    "hash": "9dd2a7f0e8d56c01bd8b1f02272b074a14c4c692fa43bd87c3dd10ef9416327f"
   }
  }
 },
 "nbformat": 4,
 "nbformat_minor": 2,
 "cells": [
  {
   "cell_type": "code",
   "execution_count": 2,
   "metadata": {},
   "outputs": [],
   "source": [
    "# dependencies\n",
    "import pandas as pd\n",
    "import os\n",
    "from sqlalchemy import create_engine"
   ]
  },
  {
   "cell_type": "code",
   "execution_count": 3,
   "metadata": {},
   "outputs": [],
   "source": [
    "# define filename\n",
    "house_prices_file = \"all_perth_310121.csv\"\n",
    "\n",
    "# assign filepath\n",
    "house_prices_path = os.path.join(\"resources\", house_prices_file)"
   ]
  },
  {
   "cell_type": "code",
   "execution_count": 4,
   "metadata": {},
   "outputs": [
    {
     "output_type": "execute_result",
     "data": {
      "text/plain": [
       "           ADDRESS      SUBURB   PRICE  BEDROOMS  BATHROOMS  GARAGE  \\\n",
       "0    1 Acorn Place  South Lake  565000         4          2     2.0   \n",
       "1      1 Addis Way       Wandi  365000         3          2     2.0   \n",
       "2  1 Ainsley Court     Camillo  287000         3          1     1.0   \n",
       "3  1 Albert Street    Bellevue  255000         2          1     2.0   \n",
       "4     1 Aman Place   Lockridge  325000         4          1     2.0   \n",
       "\n",
       "   LAND_AREA  FLOOR_AREA  BUILD_YEAR  CBD_DIST               NEAREST_STN  \\\n",
       "0        600         160      2003.0     18300  Cockburn Central Station   \n",
       "1        351         139      2013.0     26900           Kwinana Station   \n",
       "2        719          86      1979.0     22600           Challis Station   \n",
       "3        651          59      1953.0     17900           Midland Station   \n",
       "4        466         131      1998.0     11200        Bassendean Station   \n",
       "\n",
       "   NEAREST_STN_DIST  DATE_SOLD  POSTCODE   LATITUDE   LONGITUDE  \\\n",
       "0              1800  09-2018\\r      6164 -32.115900  115.842450   \n",
       "1              4900  02-2019\\r      6167 -32.193470  115.859553   \n",
       "2              1900  06-2015\\r      6111 -32.120578  115.993579   \n",
       "3              3600  07-2018\\r      6056 -31.900547  116.038009   \n",
       "4              2000  11-2016\\r      6054 -31.885790  115.947780   \n",
       "\n",
       "                    NEAREST_SCH  NEAREST_SCH_DIST  NEAREST_SCH_RANK  \n",
       "0   LAKELAND SENIOR HIGH SCHOOL          0.828339               NaN  \n",
       "1                ATWELL COLLEGE          5.524324             129.0  \n",
       "2  KELMSCOTT SENIOR HIGH SCHOOL          1.649178             113.0  \n",
       "3  SWAN VIEW SENIOR HIGH SCHOOL          1.571401               NaN  \n",
       "4                 KIARA COLLEGE          1.514922               NaN  "
      ],
      "text/html": "<div>\n<style scoped>\n    .dataframe tbody tr th:only-of-type {\n        vertical-align: middle;\n    }\n\n    .dataframe tbody tr th {\n        vertical-align: top;\n    }\n\n    .dataframe thead th {\n        text-align: right;\n    }\n</style>\n<table border=\"1\" class=\"dataframe\">\n  <thead>\n    <tr style=\"text-align: right;\">\n      <th></th>\n      <th>ADDRESS</th>\n      <th>SUBURB</th>\n      <th>PRICE</th>\n      <th>BEDROOMS</th>\n      <th>BATHROOMS</th>\n      <th>GARAGE</th>\n      <th>LAND_AREA</th>\n      <th>FLOOR_AREA</th>\n      <th>BUILD_YEAR</th>\n      <th>CBD_DIST</th>\n      <th>NEAREST_STN</th>\n      <th>NEAREST_STN_DIST</th>\n      <th>DATE_SOLD</th>\n      <th>POSTCODE</th>\n      <th>LATITUDE</th>\n      <th>LONGITUDE</th>\n      <th>NEAREST_SCH</th>\n      <th>NEAREST_SCH_DIST</th>\n      <th>NEAREST_SCH_RANK</th>\n    </tr>\n  </thead>\n  <tbody>\n    <tr>\n      <th>0</th>\n      <td>1 Acorn Place</td>\n      <td>South Lake</td>\n      <td>565000</td>\n      <td>4</td>\n      <td>2</td>\n      <td>2.0</td>\n      <td>600</td>\n      <td>160</td>\n      <td>2003.0</td>\n      <td>18300</td>\n      <td>Cockburn Central Station</td>\n      <td>1800</td>\n      <td>09-2018\\r</td>\n      <td>6164</td>\n      <td>-32.115900</td>\n      <td>115.842450</td>\n      <td>LAKELAND SENIOR HIGH SCHOOL</td>\n      <td>0.828339</td>\n      <td>NaN</td>\n    </tr>\n    <tr>\n      <th>1</th>\n      <td>1 Addis Way</td>\n      <td>Wandi</td>\n      <td>365000</td>\n      <td>3</td>\n      <td>2</td>\n      <td>2.0</td>\n      <td>351</td>\n      <td>139</td>\n      <td>2013.0</td>\n      <td>26900</td>\n      <td>Kwinana Station</td>\n      <td>4900</td>\n      <td>02-2019\\r</td>\n      <td>6167</td>\n      <td>-32.193470</td>\n      <td>115.859553</td>\n      <td>ATWELL COLLEGE</td>\n      <td>5.524324</td>\n      <td>129.0</td>\n    </tr>\n    <tr>\n      <th>2</th>\n      <td>1 Ainsley Court</td>\n      <td>Camillo</td>\n      <td>287000</td>\n      <td>3</td>\n      <td>1</td>\n      <td>1.0</td>\n      <td>719</td>\n      <td>86</td>\n      <td>1979.0</td>\n      <td>22600</td>\n      <td>Challis Station</td>\n      <td>1900</td>\n      <td>06-2015\\r</td>\n      <td>6111</td>\n      <td>-32.120578</td>\n      <td>115.993579</td>\n      <td>KELMSCOTT SENIOR HIGH SCHOOL</td>\n      <td>1.649178</td>\n      <td>113.0</td>\n    </tr>\n    <tr>\n      <th>3</th>\n      <td>1 Albert Street</td>\n      <td>Bellevue</td>\n      <td>255000</td>\n      <td>2</td>\n      <td>1</td>\n      <td>2.0</td>\n      <td>651</td>\n      <td>59</td>\n      <td>1953.0</td>\n      <td>17900</td>\n      <td>Midland Station</td>\n      <td>3600</td>\n      <td>07-2018\\r</td>\n      <td>6056</td>\n      <td>-31.900547</td>\n      <td>116.038009</td>\n      <td>SWAN VIEW SENIOR HIGH SCHOOL</td>\n      <td>1.571401</td>\n      <td>NaN</td>\n    </tr>\n    <tr>\n      <th>4</th>\n      <td>1 Aman Place</td>\n      <td>Lockridge</td>\n      <td>325000</td>\n      <td>4</td>\n      <td>1</td>\n      <td>2.0</td>\n      <td>466</td>\n      <td>131</td>\n      <td>1998.0</td>\n      <td>11200</td>\n      <td>Bassendean Station</td>\n      <td>2000</td>\n      <td>11-2016\\r</td>\n      <td>6054</td>\n      <td>-31.885790</td>\n      <td>115.947780</td>\n      <td>KIARA COLLEGE</td>\n      <td>1.514922</td>\n      <td>NaN</td>\n    </tr>\n  </tbody>\n</table>\n</div>"
     },
     "metadata": {},
     "execution_count": 4
    }
   ],
   "source": [
    "# load in data\n",
    "house_prices_df = pd.read_csv(house_prices_path)\n",
    "\n",
    "# inspect data\n",
    "house_prices_df.head()"
   ]
  },
  {
   "cell_type": "code",
   "execution_count": 5,
   "metadata": {},
   "outputs": [
    {
     "output_type": "execute_result",
     "data": {
      "text/plain": [
       "ADDRESS              object\n",
       "SUBURB               object\n",
       "PRICE                 int64\n",
       "BEDROOMS              int64\n",
       "BATHROOMS             int64\n",
       "GARAGE              float64\n",
       "LAND_AREA             int64\n",
       "FLOOR_AREA            int64\n",
       "BUILD_YEAR          float64\n",
       "CBD_DIST              int64\n",
       "NEAREST_STN          object\n",
       "NEAREST_STN_DIST      int64\n",
       "DATE_SOLD            object\n",
       "POSTCODE              int64\n",
       "LATITUDE            float64\n",
       "LONGITUDE           float64\n",
       "NEAREST_SCH          object\n",
       "NEAREST_SCH_DIST    float64\n",
       "NEAREST_SCH_RANK    float64\n",
       "dtype: object"
      ]
     },
     "metadata": {},
     "execution_count": 5
    }
   ],
   "source": [
    "# inspect data types\n",
    "house_prices_df.dtypes"
   ]
  },
  {
   "cell_type": "code",
   "execution_count": 6,
   "metadata": {},
   "outputs": [
    {
     "output_type": "execute_result",
     "data": {
      "text/plain": [
       "0        1535760000\n",
       "1        1548979200\n",
       "2        1433116800\n",
       "3        1530403200\n",
       "4        1477958400\n",
       "            ...    \n",
       "33651    1456790400\n",
       "33652    1485907200\n",
       "33653    1485907200\n",
       "33654    1475280000\n",
       "33655    1462060800\n",
       "Name: DATE_SOLD_UNIX, Length: 33656, dtype: int64"
      ]
     },
     "metadata": {},
     "execution_count": 6
    }
   ],
   "source": [
    "# transform datatype to date\n",
    "house_prices_df[\"DATE_SOLD\"] = pd.to_datetime(house_prices_df[\"DATE_SOLD\"])\n",
    "\n",
    "# transform date to unix\n",
    "house_prices_df[\"DATE_SOLD_UNIX\"] = (house_prices_df[\"DATE_SOLD\"] - pd.Timestamp(\"1970-01-01\")) // pd.Timedelta('1s')\n",
    "\n",
    "# confirm dates are unix format\n",
    "house_prices_df[\"DATE_SOLD_UNIX\"]"
   ]
  },
  {
   "cell_type": "code",
   "execution_count": 16,
   "metadata": {},
   "outputs": [
    {
     "output_type": "execute_result",
     "data": {
      "text/plain": [
       "    price        date          address      suburb  bedrooms  bathrooms  \\\n",
       "0  565000  1535760000    1 Acorn Place  South Lake         4          2   \n",
       "1  365000  1548979200      1 Addis Way       Wandi         3          2   \n",
       "2  287000  1433116800  1 Ainsley Court     Camillo         3          1   \n",
       "3  255000  1530403200  1 Albert Street    Bellevue         2          1   \n",
       "4  325000  1477958400     1 Aman Place   Lockridge         4          1   \n",
       "\n",
       "   garage  land_area  floor_area  build_year  postcode   latitude   longitude  \\\n",
       "0     2.0        600         160      2003.0      6164 -32.115900  115.842450   \n",
       "1     2.0        351         139      2013.0      6167 -32.193470  115.859553   \n",
       "2     1.0        719          86      1979.0      6111 -32.120578  115.993579   \n",
       "3     2.0        651          59      1953.0      6056 -31.900547  116.038009   \n",
       "4     2.0        466         131      1998.0      6054 -31.885790  115.947780   \n",
       "\n",
       "   cbd_dist               nearest_stn  nearest_stn_dist  \\\n",
       "0     18300  Cockburn Central Station              1800   \n",
       "1     26900           Kwinana Station              4900   \n",
       "2     22600           Challis Station              1900   \n",
       "3     17900           Midland Station              3600   \n",
       "4     11200        Bassendean Station              2000   \n",
       "\n",
       "                    nearest_sch  nearest_sch_dist  nearest_sch_rank  id  \n",
       "0   LAKELAND SENIOR HIGH SCHOOL          0.828339               NaN   1  \n",
       "1                ATWELL COLLEGE          5.524324             129.0   2  \n",
       "2  KELMSCOTT SENIOR HIGH SCHOOL          1.649178             113.0   3  \n",
       "3  SWAN VIEW SENIOR HIGH SCHOOL          1.571401               NaN   4  \n",
       "4                 KIARA COLLEGE          1.514922               NaN   5  "
      ],
      "text/html": "<div>\n<style scoped>\n    .dataframe tbody tr th:only-of-type {\n        vertical-align: middle;\n    }\n\n    .dataframe tbody tr th {\n        vertical-align: top;\n    }\n\n    .dataframe thead th {\n        text-align: right;\n    }\n</style>\n<table border=\"1\" class=\"dataframe\">\n  <thead>\n    <tr style=\"text-align: right;\">\n      <th></th>\n      <th>price</th>\n      <th>date</th>\n      <th>address</th>\n      <th>suburb</th>\n      <th>bedrooms</th>\n      <th>bathrooms</th>\n      <th>garage</th>\n      <th>land_area</th>\n      <th>floor_area</th>\n      <th>build_year</th>\n      <th>postcode</th>\n      <th>latitude</th>\n      <th>longitude</th>\n      <th>cbd_dist</th>\n      <th>nearest_stn</th>\n      <th>nearest_stn_dist</th>\n      <th>nearest_sch</th>\n      <th>nearest_sch_dist</th>\n      <th>nearest_sch_rank</th>\n      <th>id</th>\n    </tr>\n  </thead>\n  <tbody>\n    <tr>\n      <th>0</th>\n      <td>565000</td>\n      <td>1535760000</td>\n      <td>1 Acorn Place</td>\n      <td>South Lake</td>\n      <td>4</td>\n      <td>2</td>\n      <td>2.0</td>\n      <td>600</td>\n      <td>160</td>\n      <td>2003.0</td>\n      <td>6164</td>\n      <td>-32.115900</td>\n      <td>115.842450</td>\n      <td>18300</td>\n      <td>Cockburn Central Station</td>\n      <td>1800</td>\n      <td>LAKELAND SENIOR HIGH SCHOOL</td>\n      <td>0.828339</td>\n      <td>NaN</td>\n      <td>1</td>\n    </tr>\n    <tr>\n      <th>1</th>\n      <td>365000</td>\n      <td>1548979200</td>\n      <td>1 Addis Way</td>\n      <td>Wandi</td>\n      <td>3</td>\n      <td>2</td>\n      <td>2.0</td>\n      <td>351</td>\n      <td>139</td>\n      <td>2013.0</td>\n      <td>6167</td>\n      <td>-32.193470</td>\n      <td>115.859553</td>\n      <td>26900</td>\n      <td>Kwinana Station</td>\n      <td>4900</td>\n      <td>ATWELL COLLEGE</td>\n      <td>5.524324</td>\n      <td>129.0</td>\n      <td>2</td>\n    </tr>\n    <tr>\n      <th>2</th>\n      <td>287000</td>\n      <td>1433116800</td>\n      <td>1 Ainsley Court</td>\n      <td>Camillo</td>\n      <td>3</td>\n      <td>1</td>\n      <td>1.0</td>\n      <td>719</td>\n      <td>86</td>\n      <td>1979.0</td>\n      <td>6111</td>\n      <td>-32.120578</td>\n      <td>115.993579</td>\n      <td>22600</td>\n      <td>Challis Station</td>\n      <td>1900</td>\n      <td>KELMSCOTT SENIOR HIGH SCHOOL</td>\n      <td>1.649178</td>\n      <td>113.0</td>\n      <td>3</td>\n    </tr>\n    <tr>\n      <th>3</th>\n      <td>255000</td>\n      <td>1530403200</td>\n      <td>1 Albert Street</td>\n      <td>Bellevue</td>\n      <td>2</td>\n      <td>1</td>\n      <td>2.0</td>\n      <td>651</td>\n      <td>59</td>\n      <td>1953.0</td>\n      <td>6056</td>\n      <td>-31.900547</td>\n      <td>116.038009</td>\n      <td>17900</td>\n      <td>Midland Station</td>\n      <td>3600</td>\n      <td>SWAN VIEW SENIOR HIGH SCHOOL</td>\n      <td>1.571401</td>\n      <td>NaN</td>\n      <td>4</td>\n    </tr>\n    <tr>\n      <th>4</th>\n      <td>325000</td>\n      <td>1477958400</td>\n      <td>1 Aman Place</td>\n      <td>Lockridge</td>\n      <td>4</td>\n      <td>1</td>\n      <td>2.0</td>\n      <td>466</td>\n      <td>131</td>\n      <td>1998.0</td>\n      <td>6054</td>\n      <td>-31.885790</td>\n      <td>115.947780</td>\n      <td>11200</td>\n      <td>Bassendean Station</td>\n      <td>2000</td>\n      <td>KIARA COLLEGE</td>\n      <td>1.514922</td>\n      <td>NaN</td>\n      <td>5</td>\n    </tr>\n  </tbody>\n</table>\n</div>"
     },
     "metadata": {},
     "execution_count": 16
    }
   ],
   "source": [
    "# prepare the dataframe for the database export\n",
    "all_house_prices_df = house_prices_df[['PRICE', 'DATE_SOLD_UNIX','ADDRESS','SUBURB','BEDROOMS','BATHROOMS','GARAGE','LAND_AREA','FLOOR_AREA','BUILD_YEAR','POSTCODE','LATITUDE','LONGITUDE','CBD_DIST','NEAREST_STN','NEAREST_STN_DIST','NEAREST_SCH','NEAREST_SCH_DIST','NEAREST_SCH_RANK']]\n",
    "all_house_prices_df = all_house_prices_df.rename(columns={'PRICE':'price','DATE_SOLD_UNIX':'date','ADDRESS':'address','SUBURB':'suburb','BEDROOMS':'bedrooms','BATHROOMS':'bathrooms','GARAGE':'garage','LAND_AREA':'land_area','FLOOR_AREA':'floor_area','BUILD_YEAR':'build_year','POSTCODE':'postcode','LATITUDE':'latitude','LONGITUDE':'longitude','CBD_DIST':'cbd_dist', 'NEAREST_STN':'nearest_stn','NEAREST_STN_DIST':'nearest_stn_dist','NEAREST_SCH':'nearest_sch','NEAREST_SCH_DIST':'nearest_sch_dist','NEAREST_SCH_RANK':'nearest_sch_rank'})\n",
    "all_house_prices_df['id'] = all_house_prices_df.index + 1\n",
    "\n",
    "# check dataframe \n",
    "all_house_prices_df.head()"
   ]
  },
  {
   "cell_type": "code",
   "execution_count": 17,
   "metadata": {},
   "outputs": [
    {
     "output_type": "execute_result",
     "data": {
      "text/plain": [
       "   id   price        date          address      suburb  bedrooms  bathrooms  \\\n",
       "0   1  565000  1535760000    1 Acorn Place  South Lake         4          2   \n",
       "1   2  365000  1548979200      1 Addis Way       Wandi         3          2   \n",
       "2   3  287000  1433116800  1 Ainsley Court     Camillo         3          1   \n",
       "3   4  255000  1530403200  1 Albert Street    Bellevue         2          1   \n",
       "4   5  325000  1477958400     1 Aman Place   Lockridge         4          1   \n",
       "\n",
       "   land_area   latitude   longitude  \n",
       "0        600 -32.115900  115.842450  \n",
       "1        351 -32.193470  115.859553  \n",
       "2        719 -32.120578  115.993579  \n",
       "3        651 -31.900547  116.038009  \n",
       "4        466 -31.885790  115.947780  "
      ],
      "text/html": "<div>\n<style scoped>\n    .dataframe tbody tr th:only-of-type {\n        vertical-align: middle;\n    }\n\n    .dataframe tbody tr th {\n        vertical-align: top;\n    }\n\n    .dataframe thead th {\n        text-align: right;\n    }\n</style>\n<table border=\"1\" class=\"dataframe\">\n  <thead>\n    <tr style=\"text-align: right;\">\n      <th></th>\n      <th>id</th>\n      <th>price</th>\n      <th>date</th>\n      <th>address</th>\n      <th>suburb</th>\n      <th>bedrooms</th>\n      <th>bathrooms</th>\n      <th>land_area</th>\n      <th>latitude</th>\n      <th>longitude</th>\n    </tr>\n  </thead>\n  <tbody>\n    <tr>\n      <th>0</th>\n      <td>1</td>\n      <td>565000</td>\n      <td>1535760000</td>\n      <td>1 Acorn Place</td>\n      <td>South Lake</td>\n      <td>4</td>\n      <td>2</td>\n      <td>600</td>\n      <td>-32.115900</td>\n      <td>115.842450</td>\n    </tr>\n    <tr>\n      <th>1</th>\n      <td>2</td>\n      <td>365000</td>\n      <td>1548979200</td>\n      <td>1 Addis Way</td>\n      <td>Wandi</td>\n      <td>3</td>\n      <td>2</td>\n      <td>351</td>\n      <td>-32.193470</td>\n      <td>115.859553</td>\n    </tr>\n    <tr>\n      <th>2</th>\n      <td>3</td>\n      <td>287000</td>\n      <td>1433116800</td>\n      <td>1 Ainsley Court</td>\n      <td>Camillo</td>\n      <td>3</td>\n      <td>1</td>\n      <td>719</td>\n      <td>-32.120578</td>\n      <td>115.993579</td>\n    </tr>\n    <tr>\n      <th>3</th>\n      <td>4</td>\n      <td>255000</td>\n      <td>1530403200</td>\n      <td>1 Albert Street</td>\n      <td>Bellevue</td>\n      <td>2</td>\n      <td>1</td>\n      <td>651</td>\n      <td>-31.900547</td>\n      <td>116.038009</td>\n    </tr>\n    <tr>\n      <th>4</th>\n      <td>5</td>\n      <td>325000</td>\n      <td>1477958400</td>\n      <td>1 Aman Place</td>\n      <td>Lockridge</td>\n      <td>4</td>\n      <td>1</td>\n      <td>466</td>\n      <td>-31.885790</td>\n      <td>115.947780</td>\n    </tr>\n  </tbody>\n</table>\n</div>"
     },
     "metadata": {},
     "execution_count": 17
    }
   ],
   "source": [
    "# prepare the dataframe for the database export\n",
    "cleaned_house_prices_df = all_house_prices_df[['id','price','date','address','suburb','bedrooms','bathrooms','land_area','latitude','longitude']]\n",
    "\n",
    "# check dataframe\n",
    "cleaned_house_prices_df.head()"
   ]
  },
  {
   "cell_type": "code",
   "execution_count": 18,
   "metadata": {},
   "outputs": [
    {
     "output_type": "execute_result",
     "data": {
      "text/plain": [
       "id             int64\n",
       "price          int64\n",
       "date           int64\n",
       "address       object\n",
       "suburb        object\n",
       "bedrooms       int64\n",
       "bathrooms      int64\n",
       "land_area      int64\n",
       "latitude     float64\n",
       "longitude    float64\n",
       "dtype: object"
      ]
     },
     "metadata": {},
     "execution_count": 18
    }
   ],
   "source": [
    "# confirm datatypes\n",
    "cleaned_house_prices_df.dtypes"
   ]
  },
  {
   "cell_type": "code",
   "execution_count": 19,
   "metadata": {},
   "outputs": [],
   "source": [
    "# Create an engine for the sqlite database\n",
    "engine = create_engine(\"sqlite:///db.sqlite\", echo=False)\n",
    "\n",
    "# Connect with database\n",
    "connection = engine.connect()"
   ]
  },
  {
   "cell_type": "code",
   "execution_count": 20,
   "metadata": {},
   "outputs": [],
   "source": [
    "# load sale info data\n",
    "cleaned_house_prices_df.to_sql(name=\"house_prices\", con=connection, if_exists='replace')"
   ]
  },
  {
   "cell_type": "code",
   "execution_count": 21,
   "metadata": {},
   "outputs": [],
   "source": [
    "# Close database connection\n",
    "connection.close()"
   ]
  },
  {
   "cell_type": "code",
   "execution_count": null,
   "metadata": {},
   "outputs": [],
   "source": []
  }
 ]
}