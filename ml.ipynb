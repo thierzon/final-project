{
 "metadata": {
  "language_info": {
   "codemirror_mode": {
    "name": "ipython",
    "version": 3
   },
   "file_extension": ".py",
   "mimetype": "text/x-python",
   "name": "python",
   "nbconvert_exporter": "python",
   "pygments_lexer": "ipython3",
   "version": "3.6.10"
  },
  "orig_nbformat": 2,
  "kernelspec": {
   "name": "python3610jvsc74a57bd0cebc611b574370b56281b1eed2ebeeb5a0b0baf3a91027419d49730529808172",
   "display_name": "Python 3.6.10 64-bit ('PythonData': conda)"
  }
 },
 "nbformat": 4,
 "nbformat_minor": 2,
 "cells": [
  {
   "cell_type": "code",
   "execution_count": 5,
   "metadata": {},
   "outputs": [],
   "source": [
    "import numpy as np\n",
    "import pandas as pd\n",
    "from sqlalchemy import create_engine"
   ]
  },
  {
   "cell_type": "code",
   "execution_count": 9,
   "metadata": {},
   "outputs": [
    {
     "output_type": "execute_result",
     "data": {
      "text/plain": [
       "   index  id   price        date          address      suburb  bedrooms  \\\n",
       "0      0   1  565000  1535760000    1 Acorn Place  South Lake         4   \n",
       "1      1   2  365000  1548979200      1 Addis Way       Wandi         3   \n",
       "2      2   3  287000  1433116800  1 Ainsley Court     Camillo         3   \n",
       "3      3   4  255000  1530403200  1 Albert Street    Bellevue         2   \n",
       "4      4   5  325000  1477958400     1 Aman Place   Lockridge         4   \n",
       "\n",
       "   bathrooms  land_area   latitude   longitude  \n",
       "0          2        600 -32.115900  115.842450  \n",
       "1          2        351 -32.193470  115.859553  \n",
       "2          1        719 -32.120578  115.993579  \n",
       "3          1        651 -31.900547  116.038009  \n",
       "4          1        466 -31.885790  115.947780  "
      ],
      "text/html": "<div>\n<style scoped>\n    .dataframe tbody tr th:only-of-type {\n        vertical-align: middle;\n    }\n\n    .dataframe tbody tr th {\n        vertical-align: top;\n    }\n\n    .dataframe thead th {\n        text-align: right;\n    }\n</style>\n<table border=\"1\" class=\"dataframe\">\n  <thead>\n    <tr style=\"text-align: right;\">\n      <th></th>\n      <th>index</th>\n      <th>id</th>\n      <th>price</th>\n      <th>date</th>\n      <th>address</th>\n      <th>suburb</th>\n      <th>bedrooms</th>\n      <th>bathrooms</th>\n      <th>land_area</th>\n      <th>latitude</th>\n      <th>longitude</th>\n    </tr>\n  </thead>\n  <tbody>\n    <tr>\n      <th>0</th>\n      <td>0</td>\n      <td>1</td>\n      <td>565000</td>\n      <td>1535760000</td>\n      <td>1 Acorn Place</td>\n      <td>South Lake</td>\n      <td>4</td>\n      <td>2</td>\n      <td>600</td>\n      <td>-32.115900</td>\n      <td>115.842450</td>\n    </tr>\n    <tr>\n      <th>1</th>\n      <td>1</td>\n      <td>2</td>\n      <td>365000</td>\n      <td>1548979200</td>\n      <td>1 Addis Way</td>\n      <td>Wandi</td>\n      <td>3</td>\n      <td>2</td>\n      <td>351</td>\n      <td>-32.193470</td>\n      <td>115.859553</td>\n    </tr>\n    <tr>\n      <th>2</th>\n      <td>2</td>\n      <td>3</td>\n      <td>287000</td>\n      <td>1433116800</td>\n      <td>1 Ainsley Court</td>\n      <td>Camillo</td>\n      <td>3</td>\n      <td>1</td>\n      <td>719</td>\n      <td>-32.120578</td>\n      <td>115.993579</td>\n    </tr>\n    <tr>\n      <th>3</th>\n      <td>3</td>\n      <td>4</td>\n      <td>255000</td>\n      <td>1530403200</td>\n      <td>1 Albert Street</td>\n      <td>Bellevue</td>\n      <td>2</td>\n      <td>1</td>\n      <td>651</td>\n      <td>-31.900547</td>\n      <td>116.038009</td>\n    </tr>\n    <tr>\n      <th>4</th>\n      <td>4</td>\n      <td>5</td>\n      <td>325000</td>\n      <td>1477958400</td>\n      <td>1 Aman Place</td>\n      <td>Lockridge</td>\n      <td>4</td>\n      <td>1</td>\n      <td>466</td>\n      <td>-31.885790</td>\n      <td>115.947780</td>\n    </tr>\n  </tbody>\n</table>\n</div>"
     },
     "metadata": {},
     "execution_count": 9
    }
   ],
   "source": [
    "# Create an engine for the sqlite database\n",
    "engine = create_engine(\"sqlite:///db.sqlite\", echo=False)\n",
    "\n",
    "# Connect with database\n",
    "connection = engine.connect()\n",
    "\n",
    "# create dataframe from sql database\n",
    "house_prices_df = pd.read_sql(\"select * from house_prices\", con=connection)\n",
    "house_prices_df.head()"
   ]
  },
  {
   "cell_type": "code",
   "execution_count": 23,
   "metadata": {},
   "outputs": [
    {
     "output_type": "stream",
     "name": "stdout",
     "text": [
      "(33656, 4) (33656, 1)\n"
     ]
    }
   ],
   "source": [
    "X = house_prices_df[[\"date\",\"bedrooms\",\"bathrooms\",\"land_area\"]]\n",
    "y = house_prices_df[\"price\"].values.reshape(-1, 1)\n",
    "print(X.shape, y.shape)"
   ]
  },
  {
   "cell_type": "code",
   "execution_count": 24,
   "metadata": {},
   "outputs": [],
   "source": [
    "# Use train_test_split to create training and testing data\n",
    "from sklearn.model_selection import train_test_split\n",
    "\n",
    "X_train, X_test, y_train, y_test = train_test_split(X, y, random_state=42)"
   ]
  },
  {
   "cell_type": "code",
   "execution_count": 25,
   "metadata": {},
   "outputs": [],
   "source": [
    "# Create the model using LinearRegression\n",
    "from sklearn.linear_model import LinearRegression\n",
    "model = LinearRegression()"
   ]
  },
  {
   "cell_type": "code",
   "execution_count": 26,
   "metadata": {},
   "outputs": [
    {
     "output_type": "stream",
     "name": "stdout",
     "text": [
      "Training Score: 0.15393541434533076\nTesting Score: 0.13926326941143352\n"
     ]
    }
   ],
   "source": [
    "# Fit the model to the training data and calculate the scores for the training and testing data\n",
    "\n",
    "model.fit(X_train, y_train)\n",
    "training_score = model.score(X_train, y_train)\n",
    "testing_score = model.score(X_test, y_test)\n",
    "\n",
    "print(f\"Training Score: {training_score}\")\n",
    "print(f\"Testing Score: {testing_score}\")"
   ]
  },
  {
   "cell_type": "code",
   "execution_count": null,
   "metadata": {},
   "outputs": [],
   "source": [
    "# Save the model\n",
    "model.save(\"smartphone_trained.h5\")"
   ]
  }
 ]
}